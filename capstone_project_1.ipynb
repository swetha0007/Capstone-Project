{
  "nbformat": 4,
  "nbformat_minor": 0,
  "metadata": {
    "colab": {
      "name": "Untitled23.ipynb",
      "provenance": [],
      "collapsed_sections": []
    },
    "kernelspec": {
      "name": "python3",
      "display_name": "Python 3"
    },
    "language_info": {
      "name": "python"
    }
  },
  "cells": [
    {
      "cell_type": "code",
      "execution_count": 3,
      "metadata": {
        "colab": {
          "base_uri": "https://localhost:8080/"
        },
        "id": "5pAsXoiD2k8P",
        "outputId": "c4f8c18c-d60c-4555-dc96-15eeb6c6a9c1"
      },
      "outputs": [
        {
          "output_type": "stream",
          "name": "stdout",
          "text": [
            "Collecting pyspark\n",
            "  Downloading pyspark-3.2.1.tar.gz (281.4 MB)\n",
            "\u001b[K     |████████████████████████████████| 281.4 MB 32 kB/s \n",
            "\u001b[?25hCollecting py4j==0.10.9.3\n",
            "  Downloading py4j-0.10.9.3-py2.py3-none-any.whl (198 kB)\n",
            "\u001b[K     |████████████████████████████████| 198 kB 41.9 MB/s \n",
            "\u001b[?25hBuilding wheels for collected packages: pyspark\n",
            "  Building wheel for pyspark (setup.py) ... \u001b[?25l\u001b[?25hdone\n",
            "  Created wheel for pyspark: filename=pyspark-3.2.1-py2.py3-none-any.whl size=281853642 sha256=883ce8bf37389dd3e5b7f16d511f2e477ca1a6ce692eaf181aa0ffe63131b621\n",
            "  Stored in directory: /root/.cache/pip/wheels/9f/f5/07/7cd8017084dce4e93e84e92efd1e1d5334db05f2e83bcef74f\n",
            "Successfully built pyspark\n",
            "Installing collected packages: py4j, pyspark\n",
            "Successfully installed py4j-0.10.9.3 pyspark-3.2.1\n"
          ]
        }
      ],
      "source": [
        "!pip install pyspark\n",
        "\n",
        "!apt-get install openjdk-8-jdk-headless -qq > /dev/null\n",
        "\n",
        "!wget -q https://dlcdn.apache.org/spark/spark-3.2.1/spark-3.2.1-bin-hadoop2.7.tgz\n",
        "\n",
        "!tar xf spark-3.2.1-bin-hadoop2.7.tgz\n",
        "\n",
        "!pip install -q findspark\n",
        "\n",
        "import os\n",
        "os.environ[\"JAVA_HOME\"] = \"/usr/lib/jvm/java-8-openjdk-amd64\"\n",
        "os.environ[\"SPARK_HOME\"] = \"/content/spark-3.2.1-bin-hadoop2.7\"\n",
        "\n",
        "import findspark\n",
        "\n",
        "findspark.init()\n",
        "\n",
        "import pyspark"
      ]
    },
    {
      "cell_type": "code",
      "source": [
        "### Initialize the spark\n",
        "from pyspark.sql import SparkSession\n",
        "spark = SparkSession.builder.getOrCreate()"
      ],
      "metadata": {
        "id": "XiO-XVlw3E4X"
      },
      "execution_count": 5,
      "outputs": []
    },
    {
      "cell_type": "code",
      "source": [
        "import pyspark.ml as ml"
      ],
      "metadata": {
        "id": "Oar2QEN93iT3"
      },
      "execution_count": 6,
      "outputs": []
    },
    {
      "cell_type": "code",
      "source": [
        "employees_df  = spark.read.csv('employees.csv',inferSchema=True,header=True)"
      ],
      "metadata": {
        "id": "fFBGr1uu36JN"
      },
      "execution_count": 7,
      "outputs": []
    },
    {
      "cell_type": "code",
      "source": [
        "employees_df.show(5, truncate=False)\n"
      ],
      "metadata": {
        "colab": {
          "base_uri": "https://localhost:8080/"
        },
        "id": "uz46rU2V4EgI",
        "outputId": "f8771928-a9f5-4765-a3ab-3ea83491436c"
      },
      "execution_count": 5,
      "outputs": [
        {
          "output_type": "stream",
          "name": "stdout",
          "text": [
            "+------+------------+----------+----------+---------+---+----------+--------------+-----------------------+----+---------+\n",
            "|emp_no|emp_title_id|birth_date|first_name|last_name|sex|hire_date |no_of_projects|Last_performance_rating|left|last_date|\n",
            "+------+------------+----------+----------+---------+---+----------+--------------+-----------------------+----+---------+\n",
            "|473302|s0001       |7/25/1953 |Hideyuki  |Zallocco |M  |4/28/1990 |2             |A                      |0   |null     |\n",
            "|475053|e0002       |11/18/1954|Byong     |Delgrande|F  |9/7/1991  |1             |C                      |0   |null     |\n",
            "|57444 |e0002       |1/30/1958 |Berry     |Babb     |F  |3/21/1992 |9             |A                      |0   |null     |\n",
            "|421786|s0001       |9/28/1957 |Xiong     |Verhoeff |M  |11/26/1987|2             |C                      |0   |null     |\n",
            "|282238|e0003       |10/28/1952|Abdelkader|Baumann  |F  |1/18/1991 |6             |B                      |0   |null     |\n",
            "+------+------------+----------+----------+---------+---+----------+--------------+-----------------------+----+---------+\n",
            "only showing top 5 rows\n",
            "\n"
          ]
        }
      ]
    },
    {
      "cell_type": "code",
      "source": [
        "dept_df  = spark.read.csv('departments.csv',inferSchema=True,header=True)"
      ],
      "metadata": {
        "id": "K59DEBJvWP57"
      },
      "execution_count": 8,
      "outputs": []
    },
    {
      "cell_type": "code",
      "source": [
        "dept_df.show(5, truncate=False)"
      ],
      "metadata": {
        "colab": {
          "base_uri": "https://localhost:8080/"
        },
        "id": "Nezla_z0WcST",
        "outputId": "d474ec25-c023-4ea9-b445-a50485ba0b62"
      },
      "execution_count": 9,
      "outputs": [
        {
          "output_type": "stream",
          "name": "stdout",
          "text": [
            "+-------+---------------+\n",
            "|dept_no|dept_name      |\n",
            "+-------+---------------+\n",
            "|d001   |Marketing      |\n",
            "|d002   |Finance        |\n",
            "|d003   |Human Resources|\n",
            "|d004   |Production     |\n",
            "|d005   |development    |\n",
            "+-------+---------------+\n",
            "only showing top 5 rows\n",
            "\n"
          ]
        }
      ]
    },
    {
      "cell_type": "code",
      "source": [
        "dept_emp_df  = spark.read.csv('dept_emp.csv',inferSchema=True,header=True)\n",
        "dept_emp_df.show(5, truncate=False)\n"
      ],
      "metadata": {
        "colab": {
          "base_uri": "https://localhost:8080/"
        },
        "id": "oO9JyIKxXPzg",
        "outputId": "015d9380-0d16-48e9-c6af-95e8b4c4ff29"
      },
      "execution_count": 11,
      "outputs": [
        {
          "output_type": "stream",
          "name": "stdout",
          "text": [
            "+------+-------+\n",
            "|emp_no|dept_no|\n",
            "+------+-------+\n",
            "|10001 |d005   |\n",
            "|10002 |d007   |\n",
            "|10003 |d004   |\n",
            "|10004 |d004   |\n",
            "|10005 |d003   |\n",
            "+------+-------+\n",
            "only showing top 5 rows\n",
            "\n"
          ]
        }
      ]
    },
    {
      "cell_type": "code",
      "source": [
        "dept_mang_df  = spark.read.csv('dept_manager.csv',inferSchema=True,header=True)\n",
        "dept_mang_df.show(5, truncate=False)\n"
      ],
      "metadata": {
        "colab": {
          "base_uri": "https://localhost:8080/"
        },
        "id": "wME1qg0RtZP2",
        "outputId": "2aabbd61-3e46-430c-e809-83953df3b87b"
      },
      "execution_count": 29,
      "outputs": [
        {
          "output_type": "stream",
          "name": "stdout",
          "text": [
            "+-------+------+\n",
            "|dept_no|emp_no|\n",
            "+-------+------+\n",
            "|d001   |110022|\n",
            "|d001   |110039|\n",
            "|d002   |110085|\n",
            "|d002   |110114|\n",
            "|d003   |110183|\n",
            "+-------+------+\n",
            "only showing top 5 rows\n",
            "\n"
          ]
        }
      ]
    },
    {
      "cell_type": "code",
      "source": [
        "salary_df  = spark.read.csv('salaries.csv',inferSchema=True,header=True)\n",
        "salary_df.show(5, truncate=False)"
      ],
      "metadata": {
        "colab": {
          "base_uri": "https://localhost:8080/"
        },
        "id": "w9ah2lwaoraG",
        "outputId": "bf177470-a373-4758-fadb-ab8720846e9a"
      },
      "execution_count": 26,
      "outputs": [
        {
          "output_type": "stream",
          "name": "stdout",
          "text": [
            "+------+------+\n",
            "|emp_no|salary|\n",
            "+------+------+\n",
            "|10001 |60117 |\n",
            "|10002 |65828 |\n",
            "|10003 |40006 |\n",
            "|10004 |40054 |\n",
            "|10005 |78228 |\n",
            "+------+------+\n",
            "only showing top 5 rows\n",
            "\n"
          ]
        }
      ]
    },
    {
      "cell_type": "code",
      "source": [
        " #Let's cache the dataset\n",
        "employees_df.cache()\n",
        "employees_df.printSchema()"
      ],
      "metadata": {
        "colab": {
          "base_uri": "https://localhost:8080/"
        },
        "id": "-65iZ5Ap4OAA",
        "outputId": "f2cdac76-d90d-4d43-a9d7-51e7a903e6db"
      },
      "execution_count": 6,
      "outputs": [
        {
          "output_type": "stream",
          "name": "stdout",
          "text": [
            "root\n",
            " |-- emp_no: integer (nullable = true)\n",
            " |-- emp_title_id: string (nullable = true)\n",
            " |-- birth_date: string (nullable = true)\n",
            " |-- first_name: string (nullable = true)\n",
            " |-- last_name: string (nullable = true)\n",
            " |-- sex: string (nullable = true)\n",
            " |-- hire_date: string (nullable = true)\n",
            " |-- no_of_projects: integer (nullable = true)\n",
            " |-- Last_performance_rating: string (nullable = true)\n",
            " |-- left: integer (nullable = true)\n",
            " |-- last_date: string (nullable = true)\n",
            "\n"
          ]
        }
      ]
    },
    {
      "cell_type": "code",
      "source": [
        "employees_df.count()"
      ],
      "metadata": {
        "colab": {
          "base_uri": "https://localhost:8080/"
        },
        "id": "RRtYrrEN4iPH",
        "outputId": "9165f358-c50d-4351-a7bd-103b5f05cd7d"
      },
      "execution_count": 7,
      "outputs": [
        {
          "output_type": "execute_result",
          "data": {
            "text/plain": [
              "300024"
            ]
          },
          "metadata": {},
          "execution_count": 7
        }
      ]
    },
    {
      "cell_type": "code",
      "source": [
        "employees_df.describe().show()"
      ],
      "metadata": {
        "colab": {
          "base_uri": "https://localhost:8080/"
        },
        "id": "yXj33Jvq5Whg",
        "outputId": "e969e131-cd36-40f7-ce0e-1e89ef036c09"
      },
      "execution_count": 8,
      "outputs": [
        {
          "output_type": "stream",
          "name": "stdout",
          "text": [
            "+-------+------------------+------------+----------+----------+---------+------+---------+------------------+-----------------------+-------------------+---------+\n",
            "|summary|            emp_no|emp_title_id|birth_date|first_name|last_name|   sex|hire_date|    no_of_projects|Last_performance_rating|               left|last_date|\n",
            "+-------+------------------+------------+----------+----------+---------+------+---------+------------------+-----------------------+-------------------+---------+\n",
            "|  count|            300024|      300024|    300024|    300024|   300024|300024|   300024|            300024|                 300024|             300024|    29867|\n",
            "|   mean|253321.76339226196|        null|      null|      null|     null|  null|     null| 5.504826280564221|                   null|0.09954870277044503|     null|\n",
            "| stddev|161828.23554037823|        null|      null|      null|     null|  null|     null|2.8720743310329984|                   null| 0.2993978245079989|     null|\n",
            "|    min|             10001|       e0001|  1/1/1953|     Aamer|   Aamodt|     F| 1/1/1985|                 1|                      A|                  0| 1/1/1987|\n",
            "|    max|            499999|       s0002|  9/9/1964|    Zvonko|  dAstous|     M| 9/9/1999|                10|                      S|                  1| 9/9/2008|\n",
            "+-------+------------------+------------+----------+----------+---------+------+---------+------------------+-----------------------+-------------------+---------+\n",
            "\n"
          ]
        }
      ]
    },
    {
      "cell_type": "code",
      "source": [
        "#Summary Statistics of emo_no and no_of_projects\n",
        "employees_df.describe(\"emp_no\", \"no_of_projects\").show()"
      ],
      "metadata": {
        "colab": {
          "base_uri": "https://localhost:8080/"
        },
        "id": "f5sBN8dj5cdj",
        "outputId": "6b1845f7-cd1f-45f4-f144-5676ae4efcb1"
      },
      "execution_count": 9,
      "outputs": [
        {
          "output_type": "stream",
          "name": "stdout",
          "text": [
            "+-------+------------------+------------------+\n",
            "|summary|            emp_no|    no_of_projects|\n",
            "+-------+------------------+------------------+\n",
            "|  count|            300024|            300024|\n",
            "|   mean|253321.76339226196| 5.504826280564221|\n",
            "| stddev|161828.23554037823|2.8720743310329984|\n",
            "|    min|             10001|                 1|\n",
            "|    max|            499999|                10|\n",
            "+-------+------------------+------------------+\n",
            "\n"
          ]
        }
      ]
    },
    {
      "cell_type": "code",
      "source": [
        "from pyspark.sql.functions import mean, min, max\n",
        "employees_df.select([max('no_of_projects'), mean('no_of_projects'), min('no_of_projects')] ).show()"
      ],
      "metadata": {
        "colab": {
          "base_uri": "https://localhost:8080/"
        },
        "id": "jsKePwma6Qm4",
        "outputId": "78539224-240f-4453-aa4b-4b47821d5657"
      },
      "execution_count": 10,
      "outputs": [
        {
          "output_type": "stream",
          "name": "stdout",
          "text": [
            "+-------------------+-------------------+-------------------+\n",
            "|max(no_of_projects)|avg(no_of_projects)|min(no_of_projects)|\n",
            "+-------------------+-------------------+-------------------+\n",
            "|                 10|  5.504826280564221|                  1|\n",
            "+-------------------+-------------------+-------------------+\n",
            "\n"
          ]
        }
      ]
    },
    {
      "cell_type": "code",
      "source": [
        ""
      ],
      "metadata": {
        "id": "zh3ds2ZwUsX6"
      },
      "execution_count": null,
      "outputs": []
    },
    {
      "cell_type": "code",
      "source": [
        "import matplotlib.pyplot as plt\n",
        "import seaborn as sn\n",
        "%matplotlib inline\n",
        "\n"
      ],
      "metadata": {
        "id": "j_6tPmp6623b"
      },
      "execution_count": 1,
      "outputs": []
    },
    {
      "cell_type": "code",
      "source": [
        "dept_df.union(dept_emp_df).show()"
      ],
      "metadata": {
        "colab": {
          "base_uri": "https://localhost:8080/"
        },
        "id": "QLaWCcTwVDge",
        "outputId": "936f12df-9737-435c-f500-050086e50ff2"
      },
      "execution_count": 52,
      "outputs": [
        {
          "output_type": "stream",
          "name": "stdout",
          "text": [
            "+-------+------------------+\n",
            "|dept_no|         dept_name|\n",
            "+-------+------------------+\n",
            "|   d001|         Marketing|\n",
            "|   d002|           Finance|\n",
            "|   d003|   Human Resources|\n",
            "|   d004|        Production|\n",
            "|   d005|       development|\n",
            "|   d006|Quality Management|\n",
            "|   d007|             Sales|\n",
            "|   d008|          Research|\n",
            "|   d009|  Customer Service|\n",
            "|  10001|              d005|\n",
            "|  10002|              d007|\n",
            "|  10003|              d004|\n",
            "|  10004|              d004|\n",
            "|  10005|              d003|\n",
            "|  10006|              d005|\n",
            "|  10007|              d008|\n",
            "|  10008|              d005|\n",
            "|  10009|              d006|\n",
            "|  10010|              d004|\n",
            "|  10010|              d006|\n",
            "+-------+------------------+\n",
            "only showing top 20 rows\n",
            "\n"
          ]
        }
      ]
    },
    {
      "cell_type": "code",
      "source": [
        ""
      ],
      "metadata": {
        "id": "CwAx6q47scLx"
      },
      "execution_count": null,
      "outputs": []
    },
    {
      "cell_type": "code",
      "source": [
        "emp_sal_df=employees_df.join(salary_df, on=[\"emp_no\"], how='inner')\n",
        "emp_sal_df.show()"
      ],
      "metadata": {
        "colab": {
          "base_uri": "https://localhost:8080/"
        },
        "id": "IPurvaz0lxVh",
        "outputId": "8752a4c6-63d2-457c-ed99-b2b94facbdd2"
      },
      "execution_count": 28,
      "outputs": [
        {
          "output_type": "stream",
          "name": "stdout",
          "text": [
            "+------+------------+----------+----------+----------+---+----------+--------------+-----------------------+----+---------+------+\n",
            "|emp_no|emp_title_id|birth_date|first_name| last_name|sex| hire_date|no_of_projects|Last_performance_rating|left|last_date|salary|\n",
            "+------+------------+----------+----------+----------+---+----------+--------------+-----------------------+----+---------+------+\n",
            "|473302|       s0001| 7/25/1953|  Hideyuki|  Zallocco|  M| 4/28/1990|             2|                      A|   0|     null| 40000|\n",
            "|475053|       e0002|11/18/1954|     Byong| Delgrande|  F|  9/7/1991|             1|                      C|   0|     null| 53422|\n",
            "| 57444|       e0002| 1/30/1958|     Berry|      Babb|  F| 3/21/1992|             9|                      A|   0|     null| 48973|\n",
            "|421786|       s0001| 9/28/1957|     Xiong|  Verhoeff|  M|11/26/1987|             2|                      C|   0|     null| 40000|\n",
            "|282238|       e0003|10/28/1952|Abdelkader|   Baumann|  F| 1/18/1991|             6|                      B|   0|     null| 40000|\n",
            "|263976|       e0003|10/30/1959|      Eran|  Cusworth|  M|11/14/1986|             8|                      B|   1|8/21/1993| 40000|\n",
            "|273487|       s0001| 4/14/1957| Christoph|   Parfitt|  M| 6/28/1991|            10|                      A|   0|     null| 56087|\n",
            "|461591|       s0002|11/17/1964|    Xudong|  Samarati|  M|11/13/1985|             2|                      A|   1|8/21/1994| 40000|\n",
            "|477657|       e0002|12/18/1962|    Lihong| Magliocco|  M|10/23/1993|             5|                      A|   0|     null| 54816|\n",
            "|219881|       s0002| 4/24/1956| Kwangyoen|     Speek|  F| 2/14/1993|             6|                      B|   0|     null| 40000|\n",
            "| 29920|       e0002|12/31/1961|   Shuichi|     Tyugu|  F| 1/17/1995|             1|                    PIP|   0|     null| 40000|\n",
            "|208153|       e0003|10/25/1961|   Abdulah|      Lunn|  M|  4/8/1989|             8|                      C|   1| 8/2/2000| 50183|\n",
            "| 13616|       e0003| 8/30/1961|     Perry|     Lorho|  F|  8/3/1991|             7|                      C|   0|     null| 40000|\n",
            "|246449|       s0001| 3/23/1958|     Subbu|Bultermann|  F| 3/25/1988|             9|                      C|   0|     null| 87084|\n",
            "| 21529|       e0002| 5/19/1959|     Bojan|  Zallocco|  M|10/14/1986|             7|                      C|   0|     null| 40000|\n",
            "| 17934|       e0004| 7/12/1963|  Bilhanan|  Wuwongse|  M| 10/6/1993|             7|                      C|   0|     null| 48795|\n",
            "| 48085|       s0001| 1/19/1964|Venkatesan|      Gilg|  M| 6/28/1993|             9|                      B|   0|     null| 63016|\n",
            "|239838|       e0002|12/11/1957|   Naftali|     Dulli|  M|  6/6/1993|             3|                      A|   0|     null| 57715|\n",
            "|240129|       e0004| 8/11/1952|     Roddy|    Karnin|  M| 5/29/1985|            10|                      C|   0|     null| 43548|\n",
            "|205246|       s0002|11/25/1958|     Nevio|    Demizu|  F| 5/18/1986|             8|                      B|   0|     null| 80252|\n",
            "+------+------------+----------+----------+----------+---+----------+--------------+-----------------------+----+---------+------+\n",
            "only showing top 20 rows\n",
            "\n"
          ]
        }
      ]
    },
    {
      "cell_type": "code",
      "source": [
        ""
      ],
      "metadata": {
        "id": "fCDurDiGvmN-"
      },
      "execution_count": null,
      "outputs": []
    },
    {
      "cell_type": "code",
      "source": [
        ""
      ],
      "metadata": {
        "id": "qHkbb7e3vNYp"
      },
      "execution_count": null,
      "outputs": []
    },
    {
      "cell_type": "code",
      "source": [
        "df_join=dept_df.join(dept_mang_df,dept_mang_df.dept_no== dept_df.dept_no,\"inner\")\n",
        "df_join.show()"
      ],
      "metadata": {
        "colab": {
          "base_uri": "https://localhost:8080/"
        },
        "id": "zsdT1J2ks-HK",
        "outputId": "7a64cdf9-fe81-48a4-f7e6-e262ff7cd276"
      },
      "execution_count": 32,
      "outputs": [
        {
          "output_type": "stream",
          "name": "stdout",
          "text": [
            "+-------+------------------+-------+------+\n",
            "|dept_no|         dept_name|dept_no|emp_no|\n",
            "+-------+------------------+-------+------+\n",
            "|   d001|         Marketing|   d001|110022|\n",
            "|   d001|         Marketing|   d001|110039|\n",
            "|   d002|           Finance|   d002|110085|\n",
            "|   d002|           Finance|   d002|110114|\n",
            "|   d003|   Human Resources|   d003|110183|\n",
            "|   d003|   Human Resources|   d003|110228|\n",
            "|   d004|        Production|   d004|110303|\n",
            "|   d004|        Production|   d004|110344|\n",
            "|   d004|        Production|   d004|110386|\n",
            "|   d004|        Production|   d004|110420|\n",
            "|   d005|       development|   d005|110511|\n",
            "|   d005|       development|   d005|110567|\n",
            "|   d006|Quality Management|   d006|110725|\n",
            "|   d006|Quality Management|   d006|110765|\n",
            "|   d006|Quality Management|   d006|110800|\n",
            "|   d006|Quality Management|   d006|110854|\n",
            "|   d007|             Sales|   d007|111035|\n",
            "|   d007|             Sales|   d007|111133|\n",
            "|   d008|          Research|   d008|111400|\n",
            "|   d008|          Research|   d008|111534|\n",
            "+-------+------------------+-------+------+\n",
            "only showing top 20 rows\n",
            "\n"
          ]
        }
      ]
    },
    {
      "cell_type": "code",
      "source": [
        "import matplotlib.pyplot as plt\n",
        "import seaborn as sn\n",
        "%matplotlib inline"
      ],
      "metadata": {
        "id": "DPyokvr6w0jX"
      },
      "execution_count": 34,
      "outputs": []
    },
    {
      "cell_type": "code",
      "source": [
        "employees_pd = employees_df.select('hire_date').toPandas()"
      ],
      "metadata": {
        "id": "MgCpO_BmxKTc"
      },
      "execution_count": 40,
      "outputs": []
    },
    {
      "cell_type": "code",
      "source": [
        "employees_df\n",
        "employees_pd.info()"
      ],
      "metadata": {
        "colab": {
          "base_uri": "https://localhost:8080/"
        },
        "id": "wIfvQSXmxZjt",
        "outputId": "d3c6ed8c-4943-419c-b08b-45cd914ad030"
      },
      "execution_count": 41,
      "outputs": [
        {
          "output_type": "stream",
          "name": "stdout",
          "text": [
            "<class 'pandas.core.frame.DataFrame'>\n",
            "RangeIndex: 177528 entries, 0 to 177527\n",
            "Data columns (total 1 columns):\n",
            " #   Column     Non-Null Count   Dtype \n",
            "---  ------     --------------   ----- \n",
            " 0   hire_date  177528 non-null  object\n",
            "dtypes: object(1)\n",
            "memory usage: 1.4+ MB\n"
          ]
        }
      ]
    },
    {
      "cell_type": "code",
      "source": [
        "import pandas as pd"
      ],
      "metadata": {
        "id": "eP0V8eUHx0P5"
      },
      "execution_count": 42,
      "outputs": []
    },
    {
      "cell_type": "code",
      "source": [
        "from pyspark.sql.functions import isnull\n",
        "employees_df_clean = employees_df.na.drop( how = 'any' )"
      ],
      "metadata": {
        "id": "zsbEKXqfx8z5"
      },
      "execution_count": 46,
      "outputs": []
    },
    {
      "cell_type": "code",
      "source": [
        "employees_df_clean.count() == employees_df.count()"
      ],
      "metadata": {
        "colab": {
          "base_uri": "https://localhost:8080/"
        },
        "id": "wbV47Zvb9Te7",
        "outputId": "f3b6f4c9-bc10-47b1-b948-122c48755cec"
      },
      "execution_count": 47,
      "outputs": [
        {
          "output_type": "execute_result",
          "data": {
            "text/plain": [
              "True"
            ]
          },
          "metadata": {},
          "execution_count": 47
        }
      ]
    },
    {
      "cell_type": "code",
      "source": [
        "from pyspark.sql.functions import isnull\n",
        "dept_emp_df_clean = dept_emp_df.na.drop( how = 'any' )\n",
        "dept_emp_df_clean.count() == dept_emp_df.count()"
      ],
      "metadata": {
        "colab": {
          "base_uri": "https://localhost:8080/"
        },
        "id": "JNFIN_rO9t8_",
        "outputId": "9b5b0da9-ea6f-4d5e-dcc8-2ced972f07f2"
      },
      "execution_count": 49,
      "outputs": [
        {
          "output_type": "execute_result",
          "data": {
            "text/plain": [
              "True"
            ]
          },
          "metadata": {},
          "execution_count": 49
        }
      ]
    },
    {
      "cell_type": "code",
      "source": [
        "from pyspark.sql.functions import col, log\n"
      ],
      "metadata": {
        "id": "U-4DpTS1CJts"
      },
      "execution_count": 51,
      "outputs": []
    },
    {
      "cell_type": "code",
      "source": [
        ""
      ],
      "metadata": {
        "colab": {
          "base_uri": "https://localhost:8080/",
          "height": 130
        },
        "id": "ShEQvvpmvnnm",
        "outputId": "68d87816-762c-4652-dac4-12955702c45c"
      },
      "execution_count": 61,
      "outputs": [
        {
          "output_type": "error",
          "ename": "SyntaxError",
          "evalue": "ignored",
          "traceback": [
            "\u001b[0;36m  File \u001b[0;32m\"<ipython-input-61-20c8bf705c79>\"\u001b[0;36m, line \u001b[0;32m1\u001b[0m\n\u001b[0;31m    emp_details_df=emp_sal_df.join(dept_df on=[\"emp_no\"], how='inner')\u001b[0m\n\u001b[0m                                            ^\u001b[0m\n\u001b[0;31mSyntaxError\u001b[0m\u001b[0;31m:\u001b[0m invalid syntax\n"
          ]
        }
      ]
    },
    {
      "cell_type": "code",
      "source": [
        "salary_df  = spark.read.csv('salaries.csv',inferSchema=True,header=True)\n",
        "salary_df.show(5, truncate=False)"
      ],
      "metadata": {
        "colab": {
          "base_uri": "https://localhost:8080/"
        },
        "id": "tDugnXjBxGqr",
        "outputId": "38c33537-0229-4e43-a423-f620c2b695b0"
      },
      "execution_count": 68,
      "outputs": [
        {
          "output_type": "stream",
          "name": "stdout",
          "text": [
            "+------+------+\n",
            "|emp_no|salary|\n",
            "+------+------+\n",
            "|10001 |60117 |\n",
            "|10002 |65828 |\n",
            "|10003 |40006 |\n",
            "|10004 |40054 |\n",
            "|10005 |78228 |\n",
            "+------+------+\n",
            "only showing top 5 rows\n",
            "\n"
          ]
        }
      ]
    },
    {
      "cell_type": "code",
      "source": [
        "titles_df  = spark.read.csv('titles.csv',inferSchema=True,header=True)\n",
        "titles_df.show(5, truncate=False)"
      ],
      "metadata": {
        "colab": {
          "base_uri": "https://localhost:8080/"
        },
        "id": "BWNv6e-K0LB4",
        "outputId": "e850990a-f29f-45de-901a-91d147787fe2"
      },
      "execution_count": 112,
      "outputs": [
        {
          "output_type": "stream",
          "name": "stdout",
          "text": [
            "+--------+------------------+\n",
            "|title_id|title             |\n",
            "+--------+------------------+\n",
            "|s0001   |Staff             |\n",
            "|s0002   |Senior Staff      |\n",
            "|e0001   |Assistant Engineer|\n",
            "|e0002   |Engineer          |\n",
            "|e0003   |Senior Engineer   |\n",
            "+--------+------------------+\n",
            "only showing top 5 rows\n",
            "\n"
          ]
        }
      ]
    },
    {
      "cell_type": "code",
      "source": [
        "employees_df  = spark.read.csv('employees.csv',inferSchema=True,header=True)"
      ],
      "metadata": {
        "id": "Pq6aR_FU0UnB"
      },
      "execution_count": null,
      "outputs": []
    },
    {
      "cell_type": "code",
      "source": [
        "employees_df.createOrReplaceTempView(\"emp\") \n"
      ],
      "metadata": {
        "id": "gVTSBsNL1MK2"
      },
      "execution_count": 78,
      "outputs": []
    },
    {
      "cell_type": "code",
      "source": [
        "spark.sql(\"select emp_no,hire_date from emp\" ).show()\n"
      ],
      "metadata": {
        "colab": {
          "base_uri": "https://localhost:8080/"
        },
        "id": "Mz-gVIqj1dpE",
        "outputId": "f5aa2925-58b7-4a90-8726-929828889854"
      },
      "execution_count": 75,
      "outputs": [
        {
          "output_type": "stream",
          "name": "stdout",
          "text": [
            "+------+----------+\n",
            "|emp_no| hire_date|\n",
            "+------+----------+\n",
            "|263976|11/14/1986|\n",
            "|461591|11/13/1985|\n",
            "|208153|  4/8/1989|\n",
            "|244492| 7/19/1994|\n",
            "| 43471| 5/10/1995|\n",
            "|477628|  2/2/1991|\n",
            "|281320| 2/10/1995|\n",
            "| 62038|  9/3/1987|\n",
            "|223670|  7/1/1990|\n",
            "|214747|12/30/1990|\n",
            "|435436|10/20/1995|\n",
            "|496429| 2/18/1988|\n",
            "|426193| 3/23/1985|\n",
            "| 36965|  3/8/1988|\n",
            "|207996| 5/29/1991|\n",
            "| 78524| 8/11/1988|\n",
            "|486568|  5/8/1987|\n",
            "|478993|  2/8/1989|\n",
            "|418149| 2/17/1985|\n",
            "| 41622|  6/1/1992|\n",
            "+------+----------+\n",
            "only showing top 20 rows\n",
            "\n"
          ]
        }
      ]
    },
    {
      "cell_type": "code",
      "source": [
        "emp_sal_df=employees_df.join(salary_df, on=[\"emp_no\"], how='inner')\n",
        "emp_sal_df.show()"
      ],
      "metadata": {
        "id": "hrMPNLbM2mqE"
      },
      "execution_count": null,
      "outputs": []
    },
    {
      "cell_type": "code",
      "source": [
        "emp_sal_df.createOrReplaceTempView(\"emp_ss\") "
      ],
      "metadata": {
        "id": "P1JY6NPL2nT5"
      },
      "execution_count": 76,
      "outputs": []
    },
    {
      "cell_type": "code",
      "source": [
        "spark.sql(\"select emp_no,salary from emp_ss\" ).show()"
      ],
      "metadata": {
        "colab": {
          "base_uri": "https://localhost:8080/"
        },
        "id": "2iVZLEUG2whl",
        "outputId": "efe97f73-4a9a-4077-f867-bf5190410d9b"
      },
      "execution_count": 77,
      "outputs": [
        {
          "output_type": "stream",
          "name": "stdout",
          "text": [
            "+------+------+\n",
            "|emp_no|salary|\n",
            "+------+------+\n",
            "| 10002| 65828|\n",
            "| 10003| 40006|\n",
            "| 10005| 78228|\n",
            "| 10008| 46671|\n",
            "| 10014| 46168|\n",
            "| 10015| 40000|\n",
            "| 10016| 70889|\n",
            "| 10017| 71380|\n",
            "| 10018| 55881|\n",
            "| 10019| 44276|\n",
            "| 10022| 40000|\n",
            "| 10023| 47883|\n",
            "| 10027| 40000|\n",
            "| 10030| 66956|\n",
            "| 10031| 40000|\n",
            "| 10033| 51258|\n",
            "| 10035| 41538|\n",
            "| 10038| 40000|\n",
            "| 10040| 52153|\n",
            "| 10041| 56893|\n",
            "+------+------+\n",
            "only showing top 20 rows\n",
            "\n"
          ]
        }
      ]
    },
    {
      "cell_type": "code",
      "source": [
        "spark.sql(\"select emp_no, last_name, first_name, hire_date from emp_ss where extract(year from hire_date) = 1986\").show()\n"
      ],
      "metadata": {
        "colab": {
          "base_uri": "https://localhost:8080/"
        },
        "id": "ISwBZGOU27NK",
        "outputId": "cf63bd19-5853-44e5-9834-1c7703e4f8e1"
      },
      "execution_count": 82,
      "outputs": [
        {
          "output_type": "stream",
          "name": "stdout",
          "text": [
            "+------+---------+----------+---------+\n",
            "|emp_no|last_name|first_name|hire_date|\n",
            "+------+---------+----------+---------+\n",
            "+------+---------+----------+---------+\n",
            "\n"
          ]
        }
      ]
    },
    {
      "cell_type": "code",
      "source": [
        "spark.sql(\"select s.emp_no, e.last_name, e.first_name, e.sex, s.salary from emp as e inner join emp_ss as s on s.emp_no = e.emp_no order by s.emp_no\").show()"
      ],
      "metadata": {
        "colab": {
          "base_uri": "https://localhost:8080/"
        },
        "id": "p7B5Em3G3hPk",
        "outputId": "70322487-92f5-480f-de9b-d4bad827cc54"
      },
      "execution_count": 83,
      "outputs": [
        {
          "output_type": "stream",
          "name": "stdout",
          "text": [
            "+------+--------------+------------+---+------+\n",
            "|emp_no|     last_name|  first_name|sex|salary|\n",
            "+------+--------------+------------+---+------+\n",
            "| 10022|        Famili|      Shahaf|  M| 40000|\n",
            "| 10031|        Joslin|     Karsten|  M| 40000|\n",
            "| 10062|          Peyn|      Anoosh|  M| 55685|\n",
            "| 10074|     Bernatsky|     Mokhtar|  F| 61714|\n",
            "| 10088|      Syrzycki|    Jungsoon|  F| 65957|\n",
            "| 10102|          Luby|   Paraskevi|  F| 44380|\n",
            "| 10127|          Baja|       Subir|  F| 40000|\n",
            "| 10141|     Ishibashi|      Shahaf|  F| 62907|\n",
            "| 10158|    Mitsuhashi|     Khedija|  M| 40725|\n",
            "| 10187|      Narwekar|     Tommaso|  F| 71454|\n",
            "| 10212|        Esteva|      Divier|  M| 65938|\n",
            "| 10218|     Magalhaes|     Zhenhua|  M| 40788|\n",
            "| 10235|      Roccetti|     Susanta|  F| 41941|\n",
            "| 10253|       Salinas|       Zsolt|  F| 62494|\n",
            "| 10254|       Brattka|        Shen|  M| 60222|\n",
            "| 10268|        Siochi|      Nishit|  M| 41017|\n",
            "| 10286|Gopalakrishnan|      Saddek|  F| 40000|\n",
            "| 10323|    Hinsberger|Kankanahalli|  M| 40000|\n",
            "| 10336|         Rothe|         Goa|  F| 63248|\n",
            "| 10340|     Laventhal|    Djelloul|  M| 68132|\n",
            "+------+--------------+------------+---+------+\n",
            "only showing top 20 rows\n",
            "\n"
          ]
        }
      ]
    },
    {
      "cell_type": "code",
      "source": [
        "df_join.createOrReplaceTempView(\"deptne\") "
      ],
      "metadata": {
        "id": "3XdCrm3G8Zcq"
      },
      "execution_count": 92,
      "outputs": []
    },
    {
      "cell_type": "code",
      "source": [
        "dept_df .createOrReplaceTempView(\"depte\") "
      ],
      "metadata": {
        "id": "J1XJPjNO8jAq"
      },
      "execution_count": 89,
      "outputs": []
    },
    {
      "cell_type": "code",
      "source": [
        "dept_emp_df.createOrReplaceTempView(\"d_e\")"
      ],
      "metadata": {
        "id": "oqPVGZCqI3Bd"
      },
      "execution_count": 98,
      "outputs": []
    },
    {
      "cell_type": "code",
      "source": [
        "dept_mang_df.createOrReplaceTempView(\"d_m\")"
      ],
      "metadata": {
        "id": "i8Rgui-7QOiO"
      },
      "execution_count": 100,
      "outputs": []
    },
    {
      "cell_type": "code",
      "source": [
        "spark.sql(\"select e.last_name, e.first_name from emp as e where (e.first_name = 'Hercules') and (lower(e.last_name) like 'b%')order by e.last_name\").show()"
      ],
      "metadata": {
        "colab": {
          "base_uri": "https://localhost:8080/"
        },
        "id": "qqh6Hb_e9ecW",
        "outputId": "b85972ce-398c-46cc-e956-05a8840ee30b"
      },
      "execution_count": 91,
      "outputs": [
        {
          "output_type": "stream",
          "name": "stdout",
          "text": [
            "+----------+----------+\n",
            "| last_name|first_name|\n",
            "+----------+----------+\n",
            "|      Bail|  Hercules|\n",
            "|Baranowski|  Hercules|\n",
            "|   Bisiani|  Hercules|\n",
            "+----------+----------+\n",
            "\n"
          ]
        }
      ]
    },
    {
      "cell_type": "code",
      "source": [
        "spark.sql(\"select e.emp_no,e.last_name,e.first_name,d.dept_name from emp as e inner join deptne as de on e.emp_no = de.dept_no inner join depte as d on de.dept_no = d.dept_no where lower(d.dept_name) = 'sales'\").show()"
      ],
      "metadata": {
        "id": "5VTXps7tBQHH"
      },
      "execution_count": null,
      "outputs": []
    },
    {
      "cell_type": "code",
      "source": [
        "spark.sql(\"select last_name,count(last_name) as Frequency from emp group by last_name order by frequency desc\").show()"
      ],
      "metadata": {
        "colab": {
          "base_uri": "https://localhost:8080/"
        },
        "id": "XVA-DrmqETuK",
        "outputId": "3a0a7e1c-1eb9-4da5-e49b-8044fd70ecf1"
      },
      "execution_count": 96,
      "outputs": [
        {
          "output_type": "stream",
          "name": "stdout",
          "text": [
            "+---------------+---------+\n",
            "|      last_name|Frequency|\n",
            "+---------------+---------+\n",
            "|        Bondorf|       24|\n",
            "|      Rijckaert|       22|\n",
            "|           Baby|       22|\n",
            "|       Ritzmann|       22|\n",
            "|        Rullman|       22|\n",
            "|       Siepmann|       22|\n",
            "|Vanwelkenhuysen|       22|\n",
            "|         Schahn|       21|\n",
            "|        Deville|       21|\n",
            "|        Ventosa|       21|\n",
            "|           Unno|       20|\n",
            "|      Delgrange|       20|\n",
            "|        Veevers|       20|\n",
            "|          Picel|       20|\n",
            "|       Hagimont|       20|\n",
            "|        Garnier|       19|\n",
            "|        Litecky|       19|\n",
            "|    Kitsuregawa|       19|\n",
            "|        Sichman|       19|\n",
            "|        Lanteri|       19|\n",
            "+---------------+---------+\n",
            "only showing top 20 rows\n",
            "\n"
          ]
        }
      ]
    },
    {
      "cell_type": "code",
      "source": [
        "spark.sql(\"select CONCAT(first_name,\" \",last_name,\" \")AS EmployeeName,emp_no,1986-year(hire_date) as tenure from emp order by tenure desc limit 10\").show()       \n"
      ],
      "metadata": {
        "id": "dOcq1LJiEjdc"
      },
      "execution_count": null,
      "outputs": []
    },
    {
      "cell_type": "code",
      "source": [
        "spark.sql(\"select e.emp_no, e.last_name, e.first_name, d.dept_name from emp as e inner join d_e as de on e.emp_no = de.emp_no inner join depte as d on de.dept_no = d.dept_no where lower(d.dept_name) = 'sales' limit 10\").show()\n",
        "\n"
      ],
      "metadata": {
        "colab": {
          "base_uri": "https://localhost:8080/"
        },
        "id": "vle0-1vxIhse",
        "outputId": "17d1007a-0aab-4e10-d30b-f2df7b453957"
      },
      "execution_count": 99,
      "outputs": [
        {
          "output_type": "stream",
          "name": "stdout",
          "text": [
            "+------+---------+----------+---------+\n",
            "|emp_no|last_name|first_name|dept_name|\n",
            "+------+---------+----------+---------+\n",
            "| 10088| Syrzycki|  Jungsoon|    Sales|\n",
            "| 10253|  Salinas|     Zsolt|    Sales|\n",
            "| 10254|  Brattka|      Shen|    Sales|\n",
            "| 10400|    Nitto|    Ortrud|    Sales|\n",
            "| 10539| Reinhard|     Yucel|    Sales|\n",
            "| 10616| Marwedel|   Tommaso|    Sales|\n",
            "| 10644|  Benaini|    Pranas|    Sales|\n",
            "| 10701| Zolotykh| Hyuncheol|    Sales|\n",
            "| 10705| Wynblatt|  Hironobu|    Sales|\n",
            "| 10885|   Cronau|    Rayond|    Sales|\n",
            "+------+---------+----------+---------+\n",
            "\n"
          ]
        }
      ]
    },
    {
      "cell_type": "code",
      "source": [
        "spark.sql(\"select dm.dept_no,d.dept_name,dm.emp_no,e.last_name,e.first_name,from d_m as dm inner join d_e as d on (dm.dept_no = d.dept_no) inner join emp as e on (dm.emp_no = e.emp_no)\").show()\n"
      ],
      "metadata": {
        "id": "7mPzWSWpQk_W"
      },
      "execution_count": null,
      "outputs": []
    },
    {
      "cell_type": "code",
      "source": [
        "spark.sql(\"select e.emp_no,e.last_name, e.first_name, d.dept_name from emp as e inner join d_e as de on (e.emp_no == de.emp_no) inner join depte as as d on (de.dept_no = d.dept_no) where d.dept_name in ('Sales', 'Development') order by e.emp_no limit 12\").show()   \n",
        "\n"
      ],
      "metadata": {
        "id": "kw2iuP6TTZ45"
      },
      "execution_count": null,
      "outputs": []
    },
    {
      "cell_type": "code",
      "source": [
        "plt.figure(figsize=(10,6))\n",
        "plt.bar(emp_sal_df,salary_df['salary'])\n",
        "plt.xlabel('Job Title')\n",
        "plt.ylabel('Average Salary ($)')\n",
        "plt.title('Average Salary by Job Title',size=13)\n",
        "plt.grid()\n",
        "plt.savefig('Images/AvgSalarybyTitle.png')"
      ],
      "metadata": {
        "colab": {
          "base_uri": "https://localhost:8080/",
          "height": 796
        },
        "id": "WpG0YrcvVYvk",
        "outputId": "eb9f9024-f578-48ba-8a7e-0403082b1cb4"
      },
      "execution_count": 111,
      "outputs": [
        {
          "output_type": "error",
          "ename": "TypeError",
          "evalue": "ignored",
          "traceback": [
            "\u001b[0;31m---------------------------------------------------------------------------\u001b[0m",
            "\u001b[0;31mTypeError\u001b[0m                                 Traceback (most recent call last)",
            "\u001b[0;32m/usr/local/lib/python3.7/dist-packages/matplotlib/axes/_axes.py\u001b[0m in \u001b[0;36mbar\u001b[0;34m(self, x, height, width, bottom, align, **kwargs)\u001b[0m\n\u001b[1;32m   2369\u001b[0m                 \u001b[0;32mtry\u001b[0m\u001b[0;34m:\u001b[0m\u001b[0;34m\u001b[0m\u001b[0;34m\u001b[0m\u001b[0m\n\u001b[0;32m-> 2370\u001b[0;31m                     \u001b[0mleft\u001b[0m \u001b[0;34m=\u001b[0m \u001b[0mx\u001b[0m \u001b[0;34m-\u001b[0m \u001b[0mwidth\u001b[0m \u001b[0;34m/\u001b[0m \u001b[0;36m2\u001b[0m\u001b[0;34m\u001b[0m\u001b[0;34m\u001b[0m\u001b[0m\n\u001b[0m\u001b[1;32m   2371\u001b[0m                 \u001b[0;32mexcept\u001b[0m \u001b[0mTypeError\u001b[0m \u001b[0;32mas\u001b[0m \u001b[0me\u001b[0m\u001b[0;34m:\u001b[0m\u001b[0;34m\u001b[0m\u001b[0;34m\u001b[0m\u001b[0m\n",
            "\u001b[0;31mTypeError\u001b[0m: unsupported operand type(s) for -: 'DataFrame' and 'float'",
            "\nThe above exception was the direct cause of the following exception:\n",
            "\u001b[0;31mTypeError\u001b[0m                                 Traceback (most recent call last)",
            "\u001b[0;32m<ipython-input-111-343447a9b08c>\u001b[0m in \u001b[0;36m<module>\u001b[0;34m()\u001b[0m\n\u001b[1;32m      1\u001b[0m \u001b[0mplt\u001b[0m\u001b[0;34m.\u001b[0m\u001b[0mfigure\u001b[0m\u001b[0;34m(\u001b[0m\u001b[0mfigsize\u001b[0m\u001b[0;34m=\u001b[0m\u001b[0;34m(\u001b[0m\u001b[0;36m10\u001b[0m\u001b[0;34m,\u001b[0m\u001b[0;36m6\u001b[0m\u001b[0;34m)\u001b[0m\u001b[0;34m)\u001b[0m\u001b[0;34m\u001b[0m\u001b[0;34m\u001b[0m\u001b[0m\n\u001b[0;32m----> 2\u001b[0;31m \u001b[0mplt\u001b[0m\u001b[0;34m.\u001b[0m\u001b[0mbar\u001b[0m\u001b[0;34m(\u001b[0m\u001b[0memp_sal_df\u001b[0m\u001b[0;34m,\u001b[0m\u001b[0msalary_df\u001b[0m\u001b[0;34m[\u001b[0m\u001b[0;34m'salary'\u001b[0m\u001b[0;34m]\u001b[0m\u001b[0;34m)\u001b[0m\u001b[0;34m\u001b[0m\u001b[0;34m\u001b[0m\u001b[0m\n\u001b[0m\u001b[1;32m      3\u001b[0m \u001b[0mplt\u001b[0m\u001b[0;34m.\u001b[0m\u001b[0mxlabel\u001b[0m\u001b[0;34m(\u001b[0m\u001b[0;34m'Job Title'\u001b[0m\u001b[0;34m)\u001b[0m\u001b[0;34m\u001b[0m\u001b[0;34m\u001b[0m\u001b[0m\n\u001b[1;32m      4\u001b[0m \u001b[0mplt\u001b[0m\u001b[0;34m.\u001b[0m\u001b[0mylabel\u001b[0m\u001b[0;34m(\u001b[0m\u001b[0;34m'Average Salary ($)'\u001b[0m\u001b[0;34m)\u001b[0m\u001b[0;34m\u001b[0m\u001b[0;34m\u001b[0m\u001b[0m\n\u001b[1;32m      5\u001b[0m \u001b[0mplt\u001b[0m\u001b[0;34m.\u001b[0m\u001b[0mtitle\u001b[0m\u001b[0;34m(\u001b[0m\u001b[0;34m'Average Salary by Job Title'\u001b[0m\u001b[0;34m,\u001b[0m\u001b[0msize\u001b[0m\u001b[0;34m=\u001b[0m\u001b[0;36m13\u001b[0m\u001b[0;34m)\u001b[0m\u001b[0;34m\u001b[0m\u001b[0;34m\u001b[0m\u001b[0m\n",
            "\u001b[0;32m/usr/local/lib/python3.7/dist-packages/matplotlib/pyplot.py\u001b[0m in \u001b[0;36mbar\u001b[0;34m(x, height, width, bottom, align, data, **kwargs)\u001b[0m\n\u001b[1;32m   2407\u001b[0m     return gca().bar(\n\u001b[1;32m   2408\u001b[0m         \u001b[0mx\u001b[0m\u001b[0;34m,\u001b[0m \u001b[0mheight\u001b[0m\u001b[0;34m,\u001b[0m \u001b[0mwidth\u001b[0m\u001b[0;34m=\u001b[0m\u001b[0mwidth\u001b[0m\u001b[0;34m,\u001b[0m \u001b[0mbottom\u001b[0m\u001b[0;34m=\u001b[0m\u001b[0mbottom\u001b[0m\u001b[0;34m,\u001b[0m \u001b[0malign\u001b[0m\u001b[0;34m=\u001b[0m\u001b[0malign\u001b[0m\u001b[0;34m,\u001b[0m\u001b[0;34m\u001b[0m\u001b[0;34m\u001b[0m\u001b[0m\n\u001b[0;32m-> 2409\u001b[0;31m         **({\"data\": data} if data is not None else {}), **kwargs)\n\u001b[0m\u001b[1;32m   2410\u001b[0m \u001b[0;34m\u001b[0m\u001b[0m\n\u001b[1;32m   2411\u001b[0m \u001b[0;34m\u001b[0m\u001b[0m\n",
            "\u001b[0;32m/usr/local/lib/python3.7/dist-packages/matplotlib/__init__.py\u001b[0m in \u001b[0;36minner\u001b[0;34m(ax, data, *args, **kwargs)\u001b[0m\n\u001b[1;32m   1563\u001b[0m     \u001b[0;32mdef\u001b[0m \u001b[0minner\u001b[0m\u001b[0;34m(\u001b[0m\u001b[0max\u001b[0m\u001b[0;34m,\u001b[0m \u001b[0;34m*\u001b[0m\u001b[0margs\u001b[0m\u001b[0;34m,\u001b[0m \u001b[0mdata\u001b[0m\u001b[0;34m=\u001b[0m\u001b[0;32mNone\u001b[0m\u001b[0;34m,\u001b[0m \u001b[0;34m**\u001b[0m\u001b[0mkwargs\u001b[0m\u001b[0;34m)\u001b[0m\u001b[0;34m:\u001b[0m\u001b[0;34m\u001b[0m\u001b[0;34m\u001b[0m\u001b[0m\n\u001b[1;32m   1564\u001b[0m         \u001b[0;32mif\u001b[0m \u001b[0mdata\u001b[0m \u001b[0;32mis\u001b[0m \u001b[0;32mNone\u001b[0m\u001b[0;34m:\u001b[0m\u001b[0;34m\u001b[0m\u001b[0;34m\u001b[0m\u001b[0m\n\u001b[0;32m-> 1565\u001b[0;31m             \u001b[0;32mreturn\u001b[0m \u001b[0mfunc\u001b[0m\u001b[0;34m(\u001b[0m\u001b[0max\u001b[0m\u001b[0;34m,\u001b[0m \u001b[0;34m*\u001b[0m\u001b[0mmap\u001b[0m\u001b[0;34m(\u001b[0m\u001b[0msanitize_sequence\u001b[0m\u001b[0;34m,\u001b[0m \u001b[0margs\u001b[0m\u001b[0;34m)\u001b[0m\u001b[0;34m,\u001b[0m \u001b[0;34m**\u001b[0m\u001b[0mkwargs\u001b[0m\u001b[0;34m)\u001b[0m\u001b[0;34m\u001b[0m\u001b[0;34m\u001b[0m\u001b[0m\n\u001b[0m\u001b[1;32m   1566\u001b[0m \u001b[0;34m\u001b[0m\u001b[0m\n\u001b[1;32m   1567\u001b[0m         \u001b[0mbound\u001b[0m \u001b[0;34m=\u001b[0m \u001b[0mnew_sig\u001b[0m\u001b[0;34m.\u001b[0m\u001b[0mbind\u001b[0m\u001b[0;34m(\u001b[0m\u001b[0max\u001b[0m\u001b[0;34m,\u001b[0m \u001b[0;34m*\u001b[0m\u001b[0margs\u001b[0m\u001b[0;34m,\u001b[0m \u001b[0;34m**\u001b[0m\u001b[0mkwargs\u001b[0m\u001b[0;34m)\u001b[0m\u001b[0;34m\u001b[0m\u001b[0;34m\u001b[0m\u001b[0m\n",
            "\u001b[0;32m/usr/local/lib/python3.7/dist-packages/matplotlib/axes/_axes.py\u001b[0m in \u001b[0;36mbar\u001b[0;34m(self, x, height, width, bottom, align, **kwargs)\u001b[0m\n\u001b[1;32m   2372\u001b[0m                     raise TypeError(f'the dtypes of parameters x ({x.dtype}) '\n\u001b[1;32m   2373\u001b[0m                                     \u001b[0;34mf'and width ({width.dtype}) '\u001b[0m\u001b[0;34m\u001b[0m\u001b[0;34m\u001b[0m\u001b[0m\n\u001b[0;32m-> 2374\u001b[0;31m                                     f'are incompatible') from e\n\u001b[0m\u001b[1;32m   2375\u001b[0m                 \u001b[0mbottom\u001b[0m \u001b[0;34m=\u001b[0m \u001b[0my\u001b[0m\u001b[0;34m\u001b[0m\u001b[0;34m\u001b[0m\u001b[0m\n\u001b[1;32m   2376\u001b[0m             \u001b[0;32melif\u001b[0m \u001b[0morientation\u001b[0m \u001b[0;34m==\u001b[0m \u001b[0;34m'horizontal'\u001b[0m\u001b[0;34m:\u001b[0m\u001b[0;34m\u001b[0m\u001b[0;34m\u001b[0m\u001b[0m\n",
            "\u001b[0;31mTypeError\u001b[0m: the dtypes of parameters x (object) and width (float64) are incompatible"
          ]
        },
        {
          "output_type": "display_data",
          "data": {
            "text/plain": [
              "<Figure size 720x432 with 1 Axes>"
            ],
            "image/png": "[encoded data removed]"
          },
          "metadata": {}
        }
      ]
    },
    {
      "cell_type": "code",
      "source": [
        ""
      ],
      "metadata": {
        "colab": {
          "base_uri": "https://localhost:8080/",
          "height": 165
        },
        "id": "bbDdnwQAZMPr",
        "outputId": "392eb098-aa89-4f4a-a3ce-3710cce6f1cf"
      },
      "execution_count": 117,
      "outputs": [
        {
          "output_type": "error",
          "ename": "NameError",
          "evalue": "ignored",
          "traceback": [
            "\u001b[0;31m---------------------------------------------------------------------------\u001b[0m",
            "\u001b[0;31mNameError\u001b[0m                                 Traceback (most recent call last)",
            "\u001b[0;32m<ipython-input-117-066de052a25c>\u001b[0m in \u001b[0;36m<module>\u001b[0;34m()\u001b[0m\n\u001b[0;32m----> 1\u001b[0;31m \u001b[0mmer\u001b[0m\u001b[0;34m\u001b[0m\u001b[0;34m\u001b[0m\u001b[0m\n\u001b[0m",
            "\u001b[0;31mNameError\u001b[0m: name 'mer' is not defined"
          ]
        }
      ]
    },
    {
      "cell_type": "code",
      "source": [
        ""
      ],
      "metadata": {
        "id": "i09Yhc_gYCfG"
      },
      "execution_count": 117,
      "outputs": []
    },
    {
      "cell_type": "code",
      "source": [
        ""
      ],
      "metadata": {
        "colab": {
          "base_uri": "https://localhost:8080/",
          "height": 328
        },
        "id": "kiiq-GjIbp_4",
        "outputId": "c88352be-e2b5-4abd-8031-093b09eccab0"
      },
      "execution_count": 116,
      "outputs": [
        {
          "output_type": "error",
          "ename": "TypeError",
          "evalue": "ignored",
          "traceback": [
            "\u001b[0;31m---------------------------------------------------------------------------\u001b[0m",
            "\u001b[0;31mTypeError\u001b[0m                                 Traceback (most recent call last)",
            "\u001b[0;32m<ipython-input-116-41123bf3edb7>\u001b[0m in \u001b[0;36m<module>\u001b[0;34m()\u001b[0m\n\u001b[0;32m----> 1\u001b[0;31m \u001b[0mmerged\u001b[0m \u001b[0;34m=\u001b[0m \u001b[0mpd\u001b[0m\u001b[0;34m.\u001b[0m\u001b[0mmerge\u001b[0m\u001b[0;34m(\u001b[0m\u001b[0mtitles_df\u001b[0m\u001b[0;34m,\u001b[0m\u001b[0msalary_df\u001b[0m\u001b[0;34m,\u001b[0m\u001b[0mon\u001b[0m\u001b[0;34m=\u001b[0m\u001b[0;34m'emp_no'\u001b[0m\u001b[0;34m)\u001b[0m\u001b[0;34m\u001b[0m\u001b[0;34m\u001b[0m\u001b[0m\n\u001b[0m\u001b[1;32m      2\u001b[0m \u001b[0mmerged\u001b[0m\u001b[0;34m.\u001b[0m\u001b[0mhead\u001b[0m\u001b[0;34m(\u001b[0m\u001b[0;34m)\u001b[0m\u001b[0;34m\u001b[0m\u001b[0;34m\u001b[0m\u001b[0m\n",
            "\u001b[0;32m/usr/local/lib/python3.7/dist-packages/pandas/core/reshape/merge.py\u001b[0m in \u001b[0;36mmerge\u001b[0;34m(left, right, how, on, left_on, right_on, left_index, right_index, sort, suffixes, copy, indicator, validate)\u001b[0m\n\u001b[1;32m    117\u001b[0m         \u001b[0mcopy\u001b[0m\u001b[0;34m=\u001b[0m\u001b[0mcopy\u001b[0m\u001b[0;34m,\u001b[0m\u001b[0;34m\u001b[0m\u001b[0;34m\u001b[0m\u001b[0m\n\u001b[1;32m    118\u001b[0m         \u001b[0mindicator\u001b[0m\u001b[0;34m=\u001b[0m\u001b[0mindicator\u001b[0m\u001b[0;34m,\u001b[0m\u001b[0;34m\u001b[0m\u001b[0;34m\u001b[0m\u001b[0m\n\u001b[0;32m--> 119\u001b[0;31m         \u001b[0mvalidate\u001b[0m\u001b[0;34m=\u001b[0m\u001b[0mvalidate\u001b[0m\u001b[0;34m,\u001b[0m\u001b[0;34m\u001b[0m\u001b[0;34m\u001b[0m\u001b[0m\n\u001b[0m\u001b[1;32m    120\u001b[0m     )\n\u001b[1;32m    121\u001b[0m     \u001b[0;32mreturn\u001b[0m \u001b[0mop\u001b[0m\u001b[0;34m.\u001b[0m\u001b[0mget_result\u001b[0m\u001b[0;34m(\u001b[0m\u001b[0;34m)\u001b[0m\u001b[0;34m\u001b[0m\u001b[0;34m\u001b[0m\u001b[0m\n",
            "\u001b[0;32m/usr/local/lib/python3.7/dist-packages/pandas/core/reshape/merge.py\u001b[0m in \u001b[0;36m__init__\u001b[0;34m(self, left, right, how, on, left_on, right_on, axis, left_index, right_index, sort, suffixes, copy, indicator, validate)\u001b[0m\n\u001b[1;32m    625\u001b[0m         \u001b[0mvalidate\u001b[0m\u001b[0;34m:\u001b[0m \u001b[0mstr\u001b[0m \u001b[0;34m|\u001b[0m \u001b[0;32mNone\u001b[0m \u001b[0;34m=\u001b[0m \u001b[0;32mNone\u001b[0m\u001b[0;34m,\u001b[0m\u001b[0;34m\u001b[0m\u001b[0;34m\u001b[0m\u001b[0m\n\u001b[1;32m    626\u001b[0m     ):\n\u001b[0;32m--> 627\u001b[0;31m         \u001b[0m_left\u001b[0m \u001b[0;34m=\u001b[0m \u001b[0m_validate_operand\u001b[0m\u001b[0;34m(\u001b[0m\u001b[0mleft\u001b[0m\u001b[0;34m)\u001b[0m\u001b[0;34m\u001b[0m\u001b[0;34m\u001b[0m\u001b[0m\n\u001b[0m\u001b[1;32m    628\u001b[0m         \u001b[0m_right\u001b[0m \u001b[0;34m=\u001b[0m \u001b[0m_validate_operand\u001b[0m\u001b[0;34m(\u001b[0m\u001b[0mright\u001b[0m\u001b[0;34m)\u001b[0m\u001b[0;34m\u001b[0m\u001b[0;34m\u001b[0m\u001b[0m\n\u001b[1;32m    629\u001b[0m         \u001b[0mself\u001b[0m\u001b[0;34m.\u001b[0m\u001b[0mleft\u001b[0m \u001b[0;34m=\u001b[0m \u001b[0mself\u001b[0m\u001b[0;34m.\u001b[0m\u001b[0morig_left\u001b[0m \u001b[0;34m=\u001b[0m \u001b[0m_left\u001b[0m\u001b[0;34m\u001b[0m\u001b[0;34m\u001b[0m\u001b[0m\n",
            "\u001b[0;32m/usr/local/lib/python3.7/dist-packages/pandas/core/reshape/merge.py\u001b[0m in \u001b[0;36m_validate_operand\u001b[0;34m(obj)\u001b[0m\n\u001b[1;32m   2281\u001b[0m     \u001b[0;32melse\u001b[0m\u001b[0;34m:\u001b[0m\u001b[0;34m\u001b[0m\u001b[0;34m\u001b[0m\u001b[0m\n\u001b[1;32m   2282\u001b[0m         raise TypeError(\n\u001b[0;32m-> 2283\u001b[0;31m             \u001b[0;34mf\"Can only merge Series or DataFrame objects, a {type(obj)} was passed\"\u001b[0m\u001b[0;34m\u001b[0m\u001b[0;34m\u001b[0m\u001b[0m\n\u001b[0m\u001b[1;32m   2284\u001b[0m         )\n\u001b[1;32m   2285\u001b[0m \u001b[0;34m\u001b[0m\u001b[0m\n",
            "\u001b[0;31mTypeError\u001b[0m: Can only merge Series or DataFrame objects, a <class 'pyspark.sql.dataframe.DataFrame'> was passed"
          ]
        }
      ]
    }
  ]
}